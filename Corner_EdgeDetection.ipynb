{
  "cells": [
    {
      "cell_type": "markdown",
      "metadata": {
        "id": "M8yUt_2EY9OD"
      },
      "source": [
        "## **Project 2**\n",
        "\n",
        "Directory ID: swarajmr\n",
        "Name: Swaraj Mundruppady Rao\n",
        "UID: 120127007"
      ]
    },
    {
      "cell_type": "markdown",
      "metadata": {
        "id": "fLLKteDXZJZL"
      },
      "source": [
        "Problem 1 Solution:"
      ]
    },
    {
      "cell_type": "code",
      "execution_count": null,
      "metadata": {
        "colab": {
          "base_uri": "https://localhost:8080/"
        },
        "id": "wGAFI5RFWROK",
        "outputId": "5b1138b7-4e87-48fa-d051-090468bdbbcc"
      },
      "outputs": [
        {
          "name": "stdout",
          "output_type": "stream",
          "text": [
            "Mounted at /content/drive/\n"
          ]
        }
      ],
      "source": [
        "# Mount Drive\n",
        "from google.colab import drive\n",
        "drive.mount('/content/drive/', force_remount=True)"
      ]
    },
    {
      "cell_type": "code",
      "execution_count": null,
      "metadata": {
        "id": "vJ1Uh9ZmWbwX"
      },
      "outputs": [],
      "source": [
        "#Importing Dependent Libraries\n",
        "import numpy as np\n",
        "import cv2 as cv\n",
        "from google.colab.patches import cv2_imshow\n",
        "from matplotlib import pyplot as plt\n",
        "import math"
      ]
    },
    {
      "cell_type": "code",
      "execution_count": 39,
      "metadata": {
        "colab": {
          "base_uri": "https://localhost:8080/"
        },
        "id": "7fyXpounWhyQ",
        "outputId": "6f8c64f7-9935-4499-e727-78a639beb97f"
      },
      "outputs": [
        {
          "name": "stdout",
          "output_type": "stream",
          "text": [
            "Can't receive frame(stream end? ). Exiting...\n"
          ]
        }
      ],
      "source": [
        "#Define the path to the video file\n",
        "cap=cv.VideoCapture(\"/content/drive/MyDrive/ENPM673/Project2/proj2_v2.mp4\")\n",
        "\n",
        "#Get the frame width, height and frames per second of the video\n",
        "frame_width = int(cap.get(cv.CAP_PROP_FRAME_WIDTH))\n",
        "frame_height = int(cap.get(cv.CAP_PROP_FRAME_HEIGHT))\n",
        "\n",
        "#Decrease the frames per second to 10 to get a better view of the edges and corners\n",
        "fps = 10\n",
        "\n",
        "# Define the codec and create VideoWriter object\n",
        "out = cv.VideoWriter('/content/drive/MyDrive/ENPM673/Project2/swarajmr_project2_p1.mp4',\n",
        "                      cv.VideoWriter_fourcc(*'MP4V'), fps, (frame_width, frame_height))\n",
        "\n",
        "#Variables to keep track of the number of frames skipped and total number of frames\n",
        "pointmatching=0\n",
        "totalframes=0\n",
        "skippedframes=0\n",
        "\n",
        "#Threshold for the minimum line length to be considered as a valid line\n",
        "min_line_length_threshold = 131.8\n",
        "\n",
        "#Loop through the video frames\n",
        "while cap.isOpened():\n",
        "  ret,frame=cap.read()\n",
        "  #Count Total Number of Frames\n",
        "  totalframes+=1\n",
        "  if not ret:\n",
        "    print(\"Can't receive frame(stream end? ). Exiting...\")\n",
        "    break\n",
        "\n",
        "  #Converting image to gray to detect the edges\n",
        "  gray = cv.cvtColor(frame, cv.COLOR_BGR2GRAY)\n",
        "\n",
        "  #Filtering out the blurry frames from the video, using Threshold of 118\n",
        "  laplaciankernel = np.array([[0,1,0],[1,-4,1],[0,1,0]], dtype=np.float32)\n",
        "\n",
        "  #Finding the variance of the frame\n",
        "  var=cv.filter2D(frame, cv.CV_64F, kernel=laplaciankernel).var()\n",
        "\n",
        "  #Skipping the blurry frames and writing the non-blurry frames to the output video\n",
        "  if var<118:\n",
        "    skippedframes+=1\n",
        "    continue\n",
        "\n",
        "  #Using the non-blurry frames to detect the edges of the paper and draw lines\n",
        "  else:\n",
        "    #Gaussian Blurr to detect the edges\n",
        "    blurred = cv.GaussianBlur(gray, (5,5),0)\n",
        "    #Converting the frame to a binary image with a threshold range of 200 - 255\n",
        "    _, binary = cv.threshold(blurred, 200, 255, cv.THRESH_BINARY)\n",
        "    #Canny Edge Detector\n",
        "    edges = cv.Canny(binary, 50, 150)\n",
        "    #Computing the lines using Probabilistic Hough Lines Transform\n",
        "    lines = cv.HoughLinesP(edges, rho=1, theta=1*np.pi/180, threshold=65, minLineLength=15, maxLineGap=10)\n",
        "    #Harris Corner Detector\n",
        "    dst = cv.cornerHarris(gray, 2, 3, 0.04)\n",
        "    dst = cv.dilate(dst, None)\n",
        "    threshold = 0.7 * dst.max()\n",
        "    corner_coordinates = np.argwhere(dst > threshold)\n",
        "    cartesian_lines = []\n",
        "\n",
        "    #Detecting the end points of the paper using intersection of lines\n",
        "    for line in lines:\n",
        "        x1, y1, x2, y2 = line[0]\n",
        "        cartesian_lines.append(((x1, y1), (x2, y2)))\n",
        "    # To find intersections\n",
        "    intersections = []\n",
        "    for i in range(len(cartesian_lines)):\n",
        "      for j in range(i + 1, len(cartesian_lines)):\n",
        "        line1 = cartesian_lines[i]\n",
        "        line2 = cartesian_lines[j]\n",
        "        x1, y1 = line1[0]\n",
        "        x2, y2 = line1[1]\n",
        "        x3, y3 = line2[0]\n",
        "        x4, y4 = line2[1]\n",
        "        linelength1=np.sqrt((x2 - x1)**2 + (y2 - y1)**2)\n",
        "        linelength2=np.sqrt((x4 - x3)**2 + (y4 - y3)**2)\n",
        "\n",
        "        # Calculating slopes of the lines\n",
        "        slope1 = (y2 - y1) / (x2 - x1) if (x2 - x1) != 0 else math.inf\n",
        "        slope2 = (y4 - y3) / (x4 - x3) if (x4 - x3) != 0 else math.inf\n",
        "\n",
        "        # Calculate angle between the lines\n",
        "        angle = abs(math.atan((slope2 - slope1) / (1 + slope1 * slope2)))\n",
        "        angle_threshold = math.radians(20)\n",
        "        #mark only points for nearly Perpendicular lines\n",
        "        if angle > angle_threshold:\n",
        "          # Calculate intersection point of the lines\n",
        "          denom = (x1 - x2) * (y3 - y4) - (y1 - y2) * (x3 - x4)\n",
        "          if denom != 0 and linelength1>min_line_length_threshold and linelength2>min_line_length_threshold:\n",
        "            x = ((x1 * y2 - y1 * x2) * (x3 - x4) - (x1 - x2) * (x3 * y4 - y3 * x4)) / denom\n",
        "            y = ((x1 * y2 - y1 * x2) * (y3 - y4) - (y1 - y2) * (x3 * y4 - y3 * x4)) / denom\n",
        "            intersections.append((int(x), int(y)))\n",
        "\n",
        "\n",
        "    #Marking the intersection points\n",
        "    for point in intersections:\n",
        "      cv.circle(frame, point, 5, (0, 0, 255), -1)\n",
        "\n",
        "    # Drawing the lines on the image\n",
        "    for line in cartesian_lines:\n",
        "      x1,y1=line[0]\n",
        "      x2,y2=line[1]\n",
        "      line_length=np.sqrt((x2 - x1)**2 + (y2 - y1)**2)\n",
        "      if line_length > min_line_length_threshold:\n",
        "        cv.line(frame, line[0], line[1], (255, 0, 0), 3)\n",
        "\n",
        "    #Corner verification using Harris Corner Co-ordinates( The points will be marked in green )\n",
        "    for coord_harris in corner_coordinates:\n",
        "      for point in intersections:\n",
        "        if np.linalg.norm(np.array(point) - np.array(coord_harris[::-1])) < 15:\n",
        "            cv.circle(frame, point, 5, (0, 0, 255), 1)\n",
        "    out.write(frame)\n",
        "\n",
        "cap.release()\n",
        "out.release()\n",
        "cv.destroyAllWindows()"
      ]
    },
    {
      "cell_type": "code",
      "execution_count": 40,
      "metadata": {
        "colab": {
          "base_uri": "https://localhost:8080/"
        },
        "id": "e2YgH2IUZ-w7",
        "outputId": "27a5648d-616c-45c6-db96-2627822ffe42"
      },
      "outputs": [
        {
          "name": "stdout",
          "output_type": "stream",
          "text": [
            "Number of Frames Skipped :  193\n",
            "Total Frames:  387\n",
            "Number of frames in the video output:  194\n",
            "0.5012919896640827\n"
          ]
        }
      ],
      "source": [
        "#Total Number of Frames Skipped\n",
        "print(\"Number of Frames Skipped : \",skippedframes)\n",
        "print(\"Total Frames: \",totalframes)\n",
        "print(\"Number of frames in the video output: \",(totalframes-skippedframes))\n",
        "print((totalframes-skippedframes)/totalframes)"
      ]
    }
  ],
  "metadata": {
    "colab": {
      "provenance": []
    },
    "kernelspec": {
      "display_name": "Python 3",
      "name": "python3"
    },
    "language_info": {
      "name": "python"
    }
  },
  "nbformat": 4,
  "nbformat_minor": 0
}
